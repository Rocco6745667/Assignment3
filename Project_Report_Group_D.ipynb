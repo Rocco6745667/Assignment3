{
  "nbformat": 4,
  "nbformat_minor": 0,
  "metadata": {
    "colab": {
      "provenance": [],
      "include_colab_link": true
    },
    "kernelspec": {
      "name": "python3",
      "display_name": "Python 3"
    },
    "language_info": {
      "name": "python"
    }
  },
  "cells": [
    {
      "cell_type": "markdown",
      "metadata": {
        "id": "view-in-github",
        "colab_type": "text"
      },
      "source": [
        "<a href=\"https://colab.research.google.com/github/Rocco6745667/Assignment3/blob/master/Project_Report_Group_D.ipynb\" target=\"_parent\"><img src=\"https://colab.research.google.com/assets/colab-badge.svg\" alt=\"Open In Colab\"/></a>"
      ]
    },
    {
      "cell_type": "markdown",
      "source": [
        "# **Introduction**"
      ],
      "metadata": {
        "id": "Cf7RXlrDS0xF"
      }
    },
    {
      "cell_type": "markdown",
      "source": [
        "The competition dataset is based on the 2016 NYC Yellow Cab trip record data made available in Big Query on the Google Cloud Platform. The data was originally published by the NYC Taxi and Limousine Commission (TLC). The data was sampled and cleaned for the purposes of this playground competition."
      ],
      "metadata": {
        "id": "om1neanOS_DC"
      }
    },
    {
      "cell_type": "markdown",
      "source": [
        "# **Data Description**"
      ],
      "metadata": {
        "id": "T00rYX9nTNJi"
      }
    },
    {
      "cell_type": "markdown",
      "source": [
        "--Attributes Given--\n",
        "\n",
        "**id** - a unique identifier for each trip\n",
        "\n",
        "**vendor_id** - a code indicating the provider associated with the trip record\n",
        "\n",
        "**pickup_datetime** - date and time when the meter was engaged\n",
        "\n",
        "**dropoff_datetime** - date and time when the meter was disengaged\n",
        "\n",
        "**passenger_count** - the number of passengers in the vehicle (driver entered value)\n",
        "\n",
        "**pickup_longitude**  - the longitude where the meter was engaged\n",
        "\n",
        "**pickup_latitude** - the latitude where the meter was engaged\n",
        "\n",
        "**dropoff_longitude** - the longitude where the meter was disengaged\n",
        "\n",
        "**dropoff_latitude** - the latitude where the meter was disengaged\n",
        "\n",
        "**store_and_fwd_flag** - This flag indicates whether the trip record was held in vehicle memory before sending to the vendor because the vehicle did not have a connection to the server - Y=store and forward; N=not a store and forward trip\n",
        "\n",
        "**trip_duration** - duration of the trip in seconds\n",
        "\n",
        "--Our Attributes--\n",
        "\n",
        "**distancesLongLat** - longitude and latitude where meter was engaged and disengaged\n",
        "\n",
        "**distancesKm** - trip distances in Km \n",
        "\n",
        "**tripDurationMin** - trip duration in minutes\n",
        "\n",
        "**pickUpTimesSorted** - sorted dates when meter was engaged "
      ],
      "metadata": {
        "id": "c2bGeGXHTT_R"
      }
    },
    {
      "cell_type": "markdown",
      "source": [
        "#**Exploratory Data Analysis**"
      ],
      "metadata": {
        "id": "o8GzCICLTdXC"
      }
    },
    {
      "cell_type": "markdown",
      "source": [
        "The following section of code is to filter the given attributes, and use them to create the attributes that we have decided are necessary. "
      ],
      "metadata": {
        "id": "LsPnCN20VfSG"
      }
    },
    {
      "cell_type": "code",
      "execution_count": null,
      "metadata": {
        "colab": {
          "base_uri": "https://localhost:8080/"
        },
        "id": "cF79LANjSqHb",
        "outputId": "ab78301a-798b-49f5-d9fa-968b881f4918"
      },
      "outputs": [
        {
          "output_type": "stream",
          "name": "stdout",
          "text": [
            "Mounted at /content/drive\n"
          ]
        }
      ],
      "source": [
        "from google.colab import drive\n",
        "drive.mount('/content/drive')"
      ]
    },
    {
      "cell_type": "code",
      "source": [
        "%cd 'drive/MyDrive/Colab Notebooks/'"
      ],
      "metadata": {
        "colab": {
          "base_uri": "https://localhost:8080/"
        },
        "id": "kOWNqEwVVLC5",
        "outputId": "f143ea8d-848a-41b3-8800-609c7aecc00e"
      },
      "execution_count": null,
      "outputs": [
        {
          "output_type": "stream",
          "name": "stdout",
          "text": [
            "/content/drive/MyDrive/Colab Notebooks\n"
          ]
        }
      ]
    },
    {
      "cell_type": "code",
      "source": [
        "import pandas as pd\n",
        "import numpy as np\n",
        "import matplotlib.pyplot as plt\n",
        "import geopy.distance\n",
        "import statsmodels.api as sm\n",
        "from sklearn.cluster import KMeans\n",
        "\n",
        "df = pd.read_csv('train.csv', low_memory =False)"
      ],
      "metadata": {
        "id": "bQMZt_WBVO5j",
        "colab": {
          "base_uri": "https://localhost:8080/",
          "height": 363
        },
        "outputId": "7b5a3be4-72a6-4945-c57e-03bb42d18bb0"
      },
      "execution_count": null,
      "outputs": [
        {
          "output_type": "error",
          "ename": "FileNotFoundError",
          "evalue": "ignored",
          "traceback": [
            "\u001b[0;31m---------------------------------------------------------------------------\u001b[0m",
            "\u001b[0;31mFileNotFoundError\u001b[0m                         Traceback (most recent call last)",
            "\u001b[0;32m<ipython-input-6-fd2c44c1ab98>\u001b[0m in \u001b[0;36m<module>\u001b[0;34m\u001b[0m\n\u001b[1;32m      6\u001b[0m \u001b[0;32mfrom\u001b[0m \u001b[0msklearn\u001b[0m\u001b[0;34m.\u001b[0m\u001b[0mcluster\u001b[0m \u001b[0;32mimport\u001b[0m \u001b[0mKMeans\u001b[0m\u001b[0;34m\u001b[0m\u001b[0;34m\u001b[0m\u001b[0m\n\u001b[1;32m      7\u001b[0m \u001b[0;34m\u001b[0m\u001b[0m\n\u001b[0;32m----> 8\u001b[0;31m \u001b[0mdf\u001b[0m \u001b[0;34m=\u001b[0m \u001b[0mpd\u001b[0m\u001b[0;34m.\u001b[0m\u001b[0mread_csv\u001b[0m\u001b[0;34m(\u001b[0m\u001b[0;34m'train.csv'\u001b[0m\u001b[0;34m,\u001b[0m \u001b[0mlow_memory\u001b[0m \u001b[0;34m=\u001b[0m\u001b[0;32mFalse\u001b[0m\u001b[0;34m)\u001b[0m\u001b[0;34m\u001b[0m\u001b[0;34m\u001b[0m\u001b[0m\n\u001b[0m",
            "\u001b[0;32m/usr/local/lib/python3.8/dist-packages/pandas/util/_decorators.py\u001b[0m in \u001b[0;36mwrapper\u001b[0;34m(*args, **kwargs)\u001b[0m\n\u001b[1;32m    309\u001b[0m                     \u001b[0mstacklevel\u001b[0m\u001b[0;34m=\u001b[0m\u001b[0mstacklevel\u001b[0m\u001b[0;34m,\u001b[0m\u001b[0;34m\u001b[0m\u001b[0;34m\u001b[0m\u001b[0m\n\u001b[1;32m    310\u001b[0m                 )\n\u001b[0;32m--> 311\u001b[0;31m             \u001b[0;32mreturn\u001b[0m \u001b[0mfunc\u001b[0m\u001b[0;34m(\u001b[0m\u001b[0;34m*\u001b[0m\u001b[0margs\u001b[0m\u001b[0;34m,\u001b[0m \u001b[0;34m**\u001b[0m\u001b[0mkwargs\u001b[0m\u001b[0;34m)\u001b[0m\u001b[0;34m\u001b[0m\u001b[0;34m\u001b[0m\u001b[0m\n\u001b[0m\u001b[1;32m    312\u001b[0m \u001b[0;34m\u001b[0m\u001b[0m\n\u001b[1;32m    313\u001b[0m         \u001b[0;32mreturn\u001b[0m \u001b[0mwrapper\u001b[0m\u001b[0;34m\u001b[0m\u001b[0;34m\u001b[0m\u001b[0m\n",
            "\u001b[0;32m/usr/local/lib/python3.8/dist-packages/pandas/io/parsers/readers.py\u001b[0m in \u001b[0;36mread_csv\u001b[0;34m(filepath_or_buffer, sep, delimiter, header, names, index_col, usecols, squeeze, prefix, mangle_dupe_cols, dtype, engine, converters, true_values, false_values, skipinitialspace, skiprows, skipfooter, nrows, na_values, keep_default_na, na_filter, verbose, skip_blank_lines, parse_dates, infer_datetime_format, keep_date_col, date_parser, dayfirst, cache_dates, iterator, chunksize, compression, thousands, decimal, lineterminator, quotechar, quoting, doublequote, escapechar, comment, encoding, encoding_errors, dialect, error_bad_lines, warn_bad_lines, on_bad_lines, delim_whitespace, low_memory, memory_map, float_precision, storage_options)\u001b[0m\n\u001b[1;32m    584\u001b[0m     \u001b[0mkwds\u001b[0m\u001b[0;34m.\u001b[0m\u001b[0mupdate\u001b[0m\u001b[0;34m(\u001b[0m\u001b[0mkwds_defaults\u001b[0m\u001b[0;34m)\u001b[0m\u001b[0;34m\u001b[0m\u001b[0;34m\u001b[0m\u001b[0m\n\u001b[1;32m    585\u001b[0m \u001b[0;34m\u001b[0m\u001b[0m\n\u001b[0;32m--> 586\u001b[0;31m     \u001b[0;32mreturn\u001b[0m \u001b[0m_read\u001b[0m\u001b[0;34m(\u001b[0m\u001b[0mfilepath_or_buffer\u001b[0m\u001b[0;34m,\u001b[0m \u001b[0mkwds\u001b[0m\u001b[0;34m)\u001b[0m\u001b[0;34m\u001b[0m\u001b[0;34m\u001b[0m\u001b[0m\n\u001b[0m\u001b[1;32m    587\u001b[0m \u001b[0;34m\u001b[0m\u001b[0m\n\u001b[1;32m    588\u001b[0m \u001b[0;34m\u001b[0m\u001b[0m\n",
            "\u001b[0;32m/usr/local/lib/python3.8/dist-packages/pandas/io/parsers/readers.py\u001b[0m in \u001b[0;36m_read\u001b[0;34m(filepath_or_buffer, kwds)\u001b[0m\n\u001b[1;32m    480\u001b[0m \u001b[0;34m\u001b[0m\u001b[0m\n\u001b[1;32m    481\u001b[0m     \u001b[0;31m# Create the parser.\u001b[0m\u001b[0;34m\u001b[0m\u001b[0;34m\u001b[0m\u001b[0;34m\u001b[0m\u001b[0m\n\u001b[0;32m--> 482\u001b[0;31m     \u001b[0mparser\u001b[0m \u001b[0;34m=\u001b[0m \u001b[0mTextFileReader\u001b[0m\u001b[0;34m(\u001b[0m\u001b[0mfilepath_or_buffer\u001b[0m\u001b[0;34m,\u001b[0m \u001b[0;34m**\u001b[0m\u001b[0mkwds\u001b[0m\u001b[0;34m)\u001b[0m\u001b[0;34m\u001b[0m\u001b[0;34m\u001b[0m\u001b[0m\n\u001b[0m\u001b[1;32m    483\u001b[0m \u001b[0;34m\u001b[0m\u001b[0m\n\u001b[1;32m    484\u001b[0m     \u001b[0;32mif\u001b[0m \u001b[0mchunksize\u001b[0m \u001b[0;32mor\u001b[0m \u001b[0miterator\u001b[0m\u001b[0;34m:\u001b[0m\u001b[0;34m\u001b[0m\u001b[0;34m\u001b[0m\u001b[0m\n",
            "\u001b[0;32m/usr/local/lib/python3.8/dist-packages/pandas/io/parsers/readers.py\u001b[0m in \u001b[0;36m__init__\u001b[0;34m(self, f, engine, **kwds)\u001b[0m\n\u001b[1;32m    809\u001b[0m             \u001b[0mself\u001b[0m\u001b[0;34m.\u001b[0m\u001b[0moptions\u001b[0m\u001b[0;34m[\u001b[0m\u001b[0;34m\"has_index_names\"\u001b[0m\u001b[0;34m]\u001b[0m \u001b[0;34m=\u001b[0m \u001b[0mkwds\u001b[0m\u001b[0;34m[\u001b[0m\u001b[0;34m\"has_index_names\"\u001b[0m\u001b[0;34m]\u001b[0m\u001b[0;34m\u001b[0m\u001b[0;34m\u001b[0m\u001b[0m\n\u001b[1;32m    810\u001b[0m \u001b[0;34m\u001b[0m\u001b[0m\n\u001b[0;32m--> 811\u001b[0;31m         \u001b[0mself\u001b[0m\u001b[0;34m.\u001b[0m\u001b[0m_engine\u001b[0m \u001b[0;34m=\u001b[0m \u001b[0mself\u001b[0m\u001b[0;34m.\u001b[0m\u001b[0m_make_engine\u001b[0m\u001b[0;34m(\u001b[0m\u001b[0mself\u001b[0m\u001b[0;34m.\u001b[0m\u001b[0mengine\u001b[0m\u001b[0;34m)\u001b[0m\u001b[0;34m\u001b[0m\u001b[0;34m\u001b[0m\u001b[0m\n\u001b[0m\u001b[1;32m    812\u001b[0m \u001b[0;34m\u001b[0m\u001b[0m\n\u001b[1;32m    813\u001b[0m     \u001b[0;32mdef\u001b[0m \u001b[0mclose\u001b[0m\u001b[0;34m(\u001b[0m\u001b[0mself\u001b[0m\u001b[0;34m)\u001b[0m\u001b[0;34m:\u001b[0m\u001b[0;34m\u001b[0m\u001b[0;34m\u001b[0m\u001b[0m\n",
            "\u001b[0;32m/usr/local/lib/python3.8/dist-packages/pandas/io/parsers/readers.py\u001b[0m in \u001b[0;36m_make_engine\u001b[0;34m(self, engine)\u001b[0m\n\u001b[1;32m   1038\u001b[0m             )\n\u001b[1;32m   1039\u001b[0m         \u001b[0;31m# error: Too many arguments for \"ParserBase\"\u001b[0m\u001b[0;34m\u001b[0m\u001b[0;34m\u001b[0m\u001b[0;34m\u001b[0m\u001b[0m\n\u001b[0;32m-> 1040\u001b[0;31m         \u001b[0;32mreturn\u001b[0m \u001b[0mmapping\u001b[0m\u001b[0;34m[\u001b[0m\u001b[0mengine\u001b[0m\u001b[0;34m]\u001b[0m\u001b[0;34m(\u001b[0m\u001b[0mself\u001b[0m\u001b[0;34m.\u001b[0m\u001b[0mf\u001b[0m\u001b[0;34m,\u001b[0m \u001b[0;34m**\u001b[0m\u001b[0mself\u001b[0m\u001b[0;34m.\u001b[0m\u001b[0moptions\u001b[0m\u001b[0;34m)\u001b[0m  \u001b[0;31m# type: ignore[call-arg]\u001b[0m\u001b[0;34m\u001b[0m\u001b[0;34m\u001b[0m\u001b[0m\n\u001b[0m\u001b[1;32m   1041\u001b[0m \u001b[0;34m\u001b[0m\u001b[0m\n\u001b[1;32m   1042\u001b[0m     \u001b[0;32mdef\u001b[0m \u001b[0m_failover_to_python\u001b[0m\u001b[0;34m(\u001b[0m\u001b[0mself\u001b[0m\u001b[0;34m)\u001b[0m\u001b[0;34m:\u001b[0m\u001b[0;34m\u001b[0m\u001b[0;34m\u001b[0m\u001b[0m\n",
            "\u001b[0;32m/usr/local/lib/python3.8/dist-packages/pandas/io/parsers/c_parser_wrapper.py\u001b[0m in \u001b[0;36m__init__\u001b[0;34m(self, src, **kwds)\u001b[0m\n\u001b[1;32m     49\u001b[0m \u001b[0;34m\u001b[0m\u001b[0m\n\u001b[1;32m     50\u001b[0m         \u001b[0;31m# open handles\u001b[0m\u001b[0;34m\u001b[0m\u001b[0;34m\u001b[0m\u001b[0;34m\u001b[0m\u001b[0m\n\u001b[0;32m---> 51\u001b[0;31m         \u001b[0mself\u001b[0m\u001b[0;34m.\u001b[0m\u001b[0m_open_handles\u001b[0m\u001b[0;34m(\u001b[0m\u001b[0msrc\u001b[0m\u001b[0;34m,\u001b[0m \u001b[0mkwds\u001b[0m\u001b[0;34m)\u001b[0m\u001b[0;34m\u001b[0m\u001b[0;34m\u001b[0m\u001b[0m\n\u001b[0m\u001b[1;32m     52\u001b[0m         \u001b[0;32massert\u001b[0m \u001b[0mself\u001b[0m\u001b[0;34m.\u001b[0m\u001b[0mhandles\u001b[0m \u001b[0;32mis\u001b[0m \u001b[0;32mnot\u001b[0m \u001b[0;32mNone\u001b[0m\u001b[0;34m\u001b[0m\u001b[0;34m\u001b[0m\u001b[0m\n\u001b[1;32m     53\u001b[0m \u001b[0;34m\u001b[0m\u001b[0m\n",
            "\u001b[0;32m/usr/local/lib/python3.8/dist-packages/pandas/io/parsers/base_parser.py\u001b[0m in \u001b[0;36m_open_handles\u001b[0;34m(self, src, kwds)\u001b[0m\n\u001b[1;32m    220\u001b[0m         \u001b[0mLet\u001b[0m \u001b[0mthe\u001b[0m \u001b[0mreaders\u001b[0m \u001b[0mopen\u001b[0m \u001b[0mIOHandles\u001b[0m \u001b[0mafter\u001b[0m \u001b[0mthey\u001b[0m \u001b[0mare\u001b[0m \u001b[0mdone\u001b[0m \u001b[0;32mwith\u001b[0m \u001b[0mtheir\u001b[0m \u001b[0mpotential\u001b[0m \u001b[0mraises\u001b[0m\u001b[0;34m.\u001b[0m\u001b[0;34m\u001b[0m\u001b[0;34m\u001b[0m\u001b[0m\n\u001b[1;32m    221\u001b[0m         \"\"\"\n\u001b[0;32m--> 222\u001b[0;31m         self.handles = get_handle(\n\u001b[0m\u001b[1;32m    223\u001b[0m             \u001b[0msrc\u001b[0m\u001b[0;34m,\u001b[0m\u001b[0;34m\u001b[0m\u001b[0;34m\u001b[0m\u001b[0m\n\u001b[1;32m    224\u001b[0m             \u001b[0;34m\"r\"\u001b[0m\u001b[0;34m,\u001b[0m\u001b[0;34m\u001b[0m\u001b[0;34m\u001b[0m\u001b[0m\n",
            "\u001b[0;32m/usr/local/lib/python3.8/dist-packages/pandas/io/common.py\u001b[0m in \u001b[0;36mget_handle\u001b[0;34m(path_or_buf, mode, encoding, compression, memory_map, is_text, errors, storage_options)\u001b[0m\n\u001b[1;32m    700\u001b[0m         \u001b[0;32mif\u001b[0m \u001b[0mioargs\u001b[0m\u001b[0;34m.\u001b[0m\u001b[0mencoding\u001b[0m \u001b[0;32mand\u001b[0m \u001b[0;34m\"b\"\u001b[0m \u001b[0;32mnot\u001b[0m \u001b[0;32min\u001b[0m \u001b[0mioargs\u001b[0m\u001b[0;34m.\u001b[0m\u001b[0mmode\u001b[0m\u001b[0;34m:\u001b[0m\u001b[0;34m\u001b[0m\u001b[0;34m\u001b[0m\u001b[0m\n\u001b[1;32m    701\u001b[0m             \u001b[0;31m# Encoding\u001b[0m\u001b[0;34m\u001b[0m\u001b[0;34m\u001b[0m\u001b[0;34m\u001b[0m\u001b[0m\n\u001b[0;32m--> 702\u001b[0;31m             handle = open(\n\u001b[0m\u001b[1;32m    703\u001b[0m                 \u001b[0mhandle\u001b[0m\u001b[0;34m,\u001b[0m\u001b[0;34m\u001b[0m\u001b[0;34m\u001b[0m\u001b[0m\n\u001b[1;32m    704\u001b[0m                 \u001b[0mioargs\u001b[0m\u001b[0;34m.\u001b[0m\u001b[0mmode\u001b[0m\u001b[0;34m,\u001b[0m\u001b[0;34m\u001b[0m\u001b[0;34m\u001b[0m\u001b[0m\n",
            "\u001b[0;31mFileNotFoundError\u001b[0m: [Errno 2] No such file or directory: 'train.csv'"
          ]
        }
      ]
    },
    {
      "cell_type": "code",
      "source": [
        "#extracts passenger row\n",
        "passengerCount = df.iloc[0:200000,4]\n",
        "\n",
        "#extract longitude and latitude rows\n",
        "distancesLongLat = df.iloc[0:200000,5:9]\n",
        "distancesKm = np.zeros((200000,1))\n",
        "\n",
        "#gets each pair of coordiantes and find the distance between them in Km and puts them into an array, while also getting rid of the very few outliers\n",
        "for i, r in distancesLongLat.iterrows():\n",
        "  coords1 = (r[0],r[1])\n",
        "  coords2 = (r[2],r[3])\n",
        "  if (geopy.distance.geodesic(coords1,coords2).km > 150):\n",
        "    continue\n",
        "  distancesKm[i] = round(geopy.distance.geodesic(coords1,coords2).km,2)"
      ],
      "metadata": {
        "id": "HixgY7NSVTLQ"
      },
      "execution_count": null,
      "outputs": []
    },
    {
      "cell_type": "code",
      "source": [
        "#extracts trip durations\n",
        "tripDurationSec = df.iloc[0:200000,10]\n",
        "tripDurationMin = np.zeros((200000,1))\n",
        "\n",
        "#turns the trip durations from seconds to minutes and puts them into an array\n",
        "for i, r in enumerate(tripDurationSec):\n",
        "  if (r/60 > 200):\n",
        "    continue\n",
        "  tripDurationMin[i] = round(r/60,0)"
      ],
      "metadata": {
        "id": "Fjx312b7VWEI"
      },
      "execution_count": null,
      "outputs": []
    },
    {
      "cell_type": "code",
      "source": [
        "#makes an array with the pick up times and sorts it\n",
        "pickUpTimes = df.iloc[0:200000,2]\n",
        "pickUpTimes = pickUpTimes.sort_values()\n",
        "\n",
        "pickUpTimesSorted = np.zeros((200000,1), dtype='object')\n",
        "\n",
        "#gets rid of time of pick up and just keeps the date\n",
        "for i, r in enumerate(pickUpTimes):\n",
        "  pickUpTimesSorted[i] = r[0:10]"
      ],
      "metadata": {
        "id": "GBXD4ejJVbHb"
      },
      "execution_count": null,
      "outputs": []
    },
    {
      "cell_type": "markdown",
      "source": [
        "The following section of code focuses on exploring the data and the attributes we have created."
      ],
      "metadata": {
        "id": "w1BP93F6VzIG"
      }
    },
    {
      "cell_type": "code",
      "source": [
        "#describes entire dataset\n",
        "df.info()\n",
        "\n",
        "df.describe()"
      ],
      "metadata": {
        "colab": {
          "base_uri": "https://localhost:8080/",
          "height": 613
        },
        "id": "Od0yWnrAV-ba",
        "outputId": "0e109a42-8429-4e74-cd74-b77abd8ce612"
      },
      "execution_count": null,
      "outputs": [
        {
          "output_type": "stream",
          "name": "stdout",
          "text": [
            "<class 'pandas.core.frame.DataFrame'>\n",
            "RangeIndex: 1458644 entries, 0 to 1458643\n",
            "Data columns (total 11 columns):\n",
            " #   Column              Non-Null Count    Dtype  \n",
            "---  ------              --------------    -----  \n",
            " 0   id                  1458644 non-null  object \n",
            " 1   vendor_id           1458644 non-null  int64  \n",
            " 2   pickup_datetime     1458644 non-null  object \n",
            " 3   dropoff_datetime    1458644 non-null  object \n",
            " 4   passenger_count     1458644 non-null  int64  \n",
            " 5   pickup_longitude    1458644 non-null  float64\n",
            " 6   pickup_latitude     1458644 non-null  float64\n",
            " 7   dropoff_longitude   1458644 non-null  float64\n",
            " 8   dropoff_latitude    1458644 non-null  float64\n",
            " 9   store_and_fwd_flag  1458644 non-null  object \n",
            " 10  trip_duration       1458644 non-null  int64  \n",
            "dtypes: float64(4), int64(3), object(4)\n",
            "memory usage: 122.4+ MB\n"
          ]
        },
        {
          "output_type": "execute_result",
          "data": {
            "text/plain": [
              "          vendor_id  passenger_count  pickup_longitude  pickup_latitude  \\\n",
              "count  1.458644e+06     1.458644e+06      1.458644e+06     1.458644e+06   \n",
              "mean   1.534950e+00     1.664530e+00     -7.397349e+01     4.075092e+01   \n",
              "std    4.987772e-01     1.314242e+00      7.090186e-02     3.288119e-02   \n",
              "min    1.000000e+00     0.000000e+00     -1.219333e+02     3.435970e+01   \n",
              "25%    1.000000e+00     1.000000e+00     -7.399187e+01     4.073735e+01   \n",
              "50%    2.000000e+00     1.000000e+00     -7.398174e+01     4.075410e+01   \n",
              "75%    2.000000e+00     2.000000e+00     -7.396733e+01     4.076836e+01   \n",
              "max    2.000000e+00     9.000000e+00     -6.133553e+01     5.188108e+01   \n",
              "\n",
              "       dropoff_longitude  dropoff_latitude  trip_duration  \n",
              "count       1.458644e+06      1.458644e+06   1.458644e+06  \n",
              "mean       -7.397342e+01      4.075180e+01   9.594923e+02  \n",
              "std         7.064327e-02      3.589056e-02   5.237432e+03  \n",
              "min        -1.219333e+02      3.218114e+01   1.000000e+00  \n",
              "25%        -7.399133e+01      4.073588e+01   3.970000e+02  \n",
              "50%        -7.397975e+01      4.075452e+01   6.620000e+02  \n",
              "75%        -7.396301e+01      4.076981e+01   1.075000e+03  \n",
              "max        -6.133553e+01      4.392103e+01   3.526282e+06  "
            ],
            "text/html": [
              "\n",
              "  <div id=\"df-9ea7d958-de9e-4eda-a4ad-f99be601fd55\">\n",
              "    <div class=\"colab-df-container\">\n",
              "      <div>\n",
              "<style scoped>\n",
              "    .dataframe tbody tr th:only-of-type {\n",
              "        vertical-align: middle;\n",
              "    }\n",
              "\n",
              "    .dataframe tbody tr th {\n",
              "        vertical-align: top;\n",
              "    }\n",
              "\n",
              "    .dataframe thead th {\n",
              "        text-align: right;\n",
              "    }\n",
              "</style>\n",
              "<table border=\"1\" class=\"dataframe\">\n",
              "  <thead>\n",
              "    <tr style=\"text-align: right;\">\n",
              "      <th></th>\n",
              "      <th>vendor_id</th>\n",
              "      <th>passenger_count</th>\n",
              "      <th>pickup_longitude</th>\n",
              "      <th>pickup_latitude</th>\n",
              "      <th>dropoff_longitude</th>\n",
              "      <th>dropoff_latitude</th>\n",
              "      <th>trip_duration</th>\n",
              "    </tr>\n",
              "  </thead>\n",
              "  <tbody>\n",
              "    <tr>\n",
              "      <th>count</th>\n",
              "      <td>1.458644e+06</td>\n",
              "      <td>1.458644e+06</td>\n",
              "      <td>1.458644e+06</td>\n",
              "      <td>1.458644e+06</td>\n",
              "      <td>1.458644e+06</td>\n",
              "      <td>1.458644e+06</td>\n",
              "      <td>1.458644e+06</td>\n",
              "    </tr>\n",
              "    <tr>\n",
              "      <th>mean</th>\n",
              "      <td>1.534950e+00</td>\n",
              "      <td>1.664530e+00</td>\n",
              "      <td>-7.397349e+01</td>\n",
              "      <td>4.075092e+01</td>\n",
              "      <td>-7.397342e+01</td>\n",
              "      <td>4.075180e+01</td>\n",
              "      <td>9.594923e+02</td>\n",
              "    </tr>\n",
              "    <tr>\n",
              "      <th>std</th>\n",
              "      <td>4.987772e-01</td>\n",
              "      <td>1.314242e+00</td>\n",
              "      <td>7.090186e-02</td>\n",
              "      <td>3.288119e-02</td>\n",
              "      <td>7.064327e-02</td>\n",
              "      <td>3.589056e-02</td>\n",
              "      <td>5.237432e+03</td>\n",
              "    </tr>\n",
              "    <tr>\n",
              "      <th>min</th>\n",
              "      <td>1.000000e+00</td>\n",
              "      <td>0.000000e+00</td>\n",
              "      <td>-1.219333e+02</td>\n",
              "      <td>3.435970e+01</td>\n",
              "      <td>-1.219333e+02</td>\n",
              "      <td>3.218114e+01</td>\n",
              "      <td>1.000000e+00</td>\n",
              "    </tr>\n",
              "    <tr>\n",
              "      <th>25%</th>\n",
              "      <td>1.000000e+00</td>\n",
              "      <td>1.000000e+00</td>\n",
              "      <td>-7.399187e+01</td>\n",
              "      <td>4.073735e+01</td>\n",
              "      <td>-7.399133e+01</td>\n",
              "      <td>4.073588e+01</td>\n",
              "      <td>3.970000e+02</td>\n",
              "    </tr>\n",
              "    <tr>\n",
              "      <th>50%</th>\n",
              "      <td>2.000000e+00</td>\n",
              "      <td>1.000000e+00</td>\n",
              "      <td>-7.398174e+01</td>\n",
              "      <td>4.075410e+01</td>\n",
              "      <td>-7.397975e+01</td>\n",
              "      <td>4.075452e+01</td>\n",
              "      <td>6.620000e+02</td>\n",
              "    </tr>\n",
              "    <tr>\n",
              "      <th>75%</th>\n",
              "      <td>2.000000e+00</td>\n",
              "      <td>2.000000e+00</td>\n",
              "      <td>-7.396733e+01</td>\n",
              "      <td>4.076836e+01</td>\n",
              "      <td>-7.396301e+01</td>\n",
              "      <td>4.076981e+01</td>\n",
              "      <td>1.075000e+03</td>\n",
              "    </tr>\n",
              "    <tr>\n",
              "      <th>max</th>\n",
              "      <td>2.000000e+00</td>\n",
              "      <td>9.000000e+00</td>\n",
              "      <td>-6.133553e+01</td>\n",
              "      <td>5.188108e+01</td>\n",
              "      <td>-6.133553e+01</td>\n",
              "      <td>4.392103e+01</td>\n",
              "      <td>3.526282e+06</td>\n",
              "    </tr>\n",
              "  </tbody>\n",
              "</table>\n",
              "</div>\n",
              "      <button class=\"colab-df-convert\" onclick=\"convertToInteractive('df-9ea7d958-de9e-4eda-a4ad-f99be601fd55')\"\n",
              "              title=\"Convert this dataframe to an interactive table.\"\n",
              "              style=\"display:none;\">\n",
              "        \n",
              "  <svg xmlns=\"http://www.w3.org/2000/svg\" height=\"24px\"viewBox=\"0 0 24 24\"\n",
              "       width=\"24px\">\n",
              "    <path d=\"M0 0h24v24H0V0z\" fill=\"none\"/>\n",
              "    <path d=\"M18.56 5.44l.94 2.06.94-2.06 2.06-.94-2.06-.94-.94-2.06-.94 2.06-2.06.94zm-11 1L8.5 8.5l.94-2.06 2.06-.94-2.06-.94L8.5 2.5l-.94 2.06-2.06.94zm10 10l.94 2.06.94-2.06 2.06-.94-2.06-.94-.94-2.06-.94 2.06-2.06.94z\"/><path d=\"M17.41 7.96l-1.37-1.37c-.4-.4-.92-.59-1.43-.59-.52 0-1.04.2-1.43.59L10.3 9.45l-7.72 7.72c-.78.78-.78 2.05 0 2.83L4 21.41c.39.39.9.59 1.41.59.51 0 1.02-.2 1.41-.59l7.78-7.78 2.81-2.81c.8-.78.8-2.07 0-2.86zM5.41 20L4 18.59l7.72-7.72 1.47 1.35L5.41 20z\"/>\n",
              "  </svg>\n",
              "      </button>\n",
              "      \n",
              "  <style>\n",
              "    .colab-df-container {\n",
              "      display:flex;\n",
              "      flex-wrap:wrap;\n",
              "      gap: 12px;\n",
              "    }\n",
              "\n",
              "    .colab-df-convert {\n",
              "      background-color: #E8F0FE;\n",
              "      border: none;\n",
              "      border-radius: 50%;\n",
              "      cursor: pointer;\n",
              "      display: none;\n",
              "      fill: #1967D2;\n",
              "      height: 32px;\n",
              "      padding: 0 0 0 0;\n",
              "      width: 32px;\n",
              "    }\n",
              "\n",
              "    .colab-df-convert:hover {\n",
              "      background-color: #E2EBFA;\n",
              "      box-shadow: 0px 1px 2px rgba(60, 64, 67, 0.3), 0px 1px 3px 1px rgba(60, 64, 67, 0.15);\n",
              "      fill: #174EA6;\n",
              "    }\n",
              "\n",
              "    [theme=dark] .colab-df-convert {\n",
              "      background-color: #3B4455;\n",
              "      fill: #D2E3FC;\n",
              "    }\n",
              "\n",
              "    [theme=dark] .colab-df-convert:hover {\n",
              "      background-color: #434B5C;\n",
              "      box-shadow: 0px 1px 3px 1px rgba(0, 0, 0, 0.15);\n",
              "      filter: drop-shadow(0px 1px 2px rgba(0, 0, 0, 0.3));\n",
              "      fill: #FFFFFF;\n",
              "    }\n",
              "  </style>\n",
              "\n",
              "      <script>\n",
              "        const buttonEl =\n",
              "          document.querySelector('#df-9ea7d958-de9e-4eda-a4ad-f99be601fd55 button.colab-df-convert');\n",
              "        buttonEl.style.display =\n",
              "          google.colab.kernel.accessAllowed ? 'block' : 'none';\n",
              "\n",
              "        async function convertToInteractive(key) {\n",
              "          const element = document.querySelector('#df-9ea7d958-de9e-4eda-a4ad-f99be601fd55');\n",
              "          const dataTable =\n",
              "            await google.colab.kernel.invokeFunction('convertToInteractive',\n",
              "                                                     [key], {});\n",
              "          if (!dataTable) return;\n",
              "\n",
              "          const docLinkHtml = 'Like what you see? Visit the ' +\n",
              "            '<a target=\"_blank\" href=https://colab.research.google.com/notebooks/data_table.ipynb>data table notebook</a>'\n",
              "            + ' to learn more about interactive tables.';\n",
              "          element.innerHTML = '';\n",
              "          dataTable['output_type'] = 'display_data';\n",
              "          await google.colab.output.renderOutput(dataTable, element);\n",
              "          const docLink = document.createElement('div');\n",
              "          docLink.innerHTML = docLinkHtml;\n",
              "          element.appendChild(docLink);\n",
              "        }\n",
              "      </script>\n",
              "    </div>\n",
              "  </div>\n",
              "  "
            ]
          },
          "metadata": {},
          "execution_count": 25
        }
      ]
    },
    {
      "cell_type": "code",
      "source": [
        "#describes basic statistics of passenger count\n",
        "print(\"Passenger Count Stats\")\n",
        "passengerCount.describe()"
      ],
      "metadata": {
        "colab": {
          "base_uri": "https://localhost:8080/"
        },
        "id": "enC2zEbMWJF4",
        "outputId": "8c693ec3-85d2-4aff-9999-7bb6247d3caf"
      },
      "execution_count": null,
      "outputs": [
        {
          "output_type": "stream",
          "name": "stdout",
          "text": [
            "Passenger Count Stats\n"
          ]
        },
        {
          "output_type": "execute_result",
          "data": {
            "text/plain": [
              "count    200000.000000\n",
              "mean          1.664310\n",
              "std           1.312426\n",
              "min           0.000000\n",
              "25%           1.000000\n",
              "50%           1.000000\n",
              "75%           2.000000\n",
              "max           6.000000\n",
              "Name: passenger_count, dtype: float64"
            ]
          },
          "metadata": {},
          "execution_count": 26
        }
      ]
    },
    {
      "cell_type": "code",
      "source": [
        "#creates histogram for passenger count\n",
        "plt.hist(passengerCount)\n",
        "plt.title('Number of Passangers Count')\n",
        "plt.xlabel('Num of Passangers')\n",
        "plt.ylabel('Count')\n",
        "plt.xlim([0.5,6])\n",
        "plt.show()"
      ],
      "metadata": {
        "colab": {
          "base_uri": "https://localhost:8080/",
          "height": 295
        },
        "id": "vTQoT9f0WUR0",
        "outputId": "eb745650-21e4-4bff-8be3-c90ffaed01cc"
      },
      "execution_count": null,
      "outputs": [
        {
          "output_type": "display_data",
          "data": {
            "text/plain": [
              "<Figure size 432x288 with 1 Axes>"
            ],
            "image/png": "[encoded data removed]"
          },
          "metadata": {
            "needs_background": "light"
          }
        }
      ]
    },
    {
      "cell_type": "code",
      "source": [
        "#creates boxplot for passenger count\n",
        "plt.boxplot(passengerCount)\n",
        "plt.show()"
      ],
      "metadata": {
        "colab": {
          "base_uri": "https://localhost:8080/",
          "height": 265
        },
        "id": "1ucSfzL1WWbr",
        "outputId": "faa09676-94da-4add-8524-246573de410d"
      },
      "execution_count": null,
      "outputs": [
        {
          "output_type": "display_data",
          "data": {
            "text/plain": [
              "<Figure size 432x288 with 1 Axes>"
            ],
            "image/png": "[encoded data removed]"
          },
          "metadata": {
            "needs_background": "light"
          }
        }
      ]
    },
    {
      "cell_type": "code",
      "source": [
        "#calculates statistical descriptions for distance travelled\n",
        "mean = np.mean(distancesKm)\n",
        "median = np.median(distancesKm)\n",
        "min = np.amin(distancesKm)\n",
        "max = np.amax(distancesKm)\n",
        "range = np.ptp(distancesKm)\n",
        "variance = np.var(distancesKm)\n",
        "sd = np.std(distancesKm)\n",
        " \n",
        "print(\"Distance Travelled Stats\")\n",
        "print(\"Mean =\", mean)\n",
        "print(\"Median =\", median)\n",
        "print(\"Minimum =\", min)\n",
        "print(\"Maximum =\", max)\n",
        "print(\"Range =\", range)\n",
        "print(\"Variance =\", variance)\n",
        "print(\"Standard Deviation =\", sd)\n",
        "print(\"Q1 =\",np.percentile(distancesKm, 25) )\n",
        "print(\"Q3 =\",np.percentile(distancesKm, 75) )"
      ],
      "metadata": {
        "colab": {
          "base_uri": "https://localhost:8080/"
        },
        "id": "eMAqhBkaWqAX",
        "outputId": "f9fa3310-3d33-44e5-cb0c-f774ddf6be24"
      },
      "execution_count": null,
      "outputs": [
        {
          "output_type": "stream",
          "name": "stdout",
          "text": [
            "Distance Travelled Stats\n",
            "Mean = 2.8706395500000004\n",
            "Median = 1.53\n",
            "Minimum = 0.0\n",
            "Maximum = 121.37\n",
            "Range = 121.37\n",
            "Variance = 17.693772522475797\n",
            "Standard Deviation = 4.206396619729979\n",
            "Q1 = 0.85\n",
            "Q3 = 2.85\n"
          ]
        }
      ]
    },
    {
      "cell_type": "code",
      "source": [
        "#creates histogram for distance travelled\n",
        "plt.hist(distancesKm, bins='auto')\n",
        "plt.title('Count of Trip Distances')\n",
        "plt.xlabel('Distance (Km)')\n",
        "plt.ylabel('Count')\n",
        "plt.xlim([0,40])\n",
        "plt.show()"
      ],
      "metadata": {
        "colab": {
          "base_uri": "https://localhost:8080/",
          "height": 295
        },
        "id": "fXh2L7z4W5pU",
        "outputId": "8433b630-2291-4d6f-f118-61c012a53b00"
      },
      "execution_count": null,
      "outputs": [
        {
          "output_type": "display_data",
          "data": {
            "text/plain": [
              "<Figure size 432x288 with 1 Axes>"
            ],
            "image/png": "[encoded data removed]"
          },
          "metadata": {
            "needs_background": "light"
          }
        }
      ]
    },
    {
      "cell_type": "code",
      "source": [
        "#creates boxplot for distance travelled\n",
        "plt.boxplot(distancesKm)\n",
        "plt.show()"
      ],
      "metadata": {
        "colab": {
          "base_uri": "https://localhost:8080/",
          "height": 265
        },
        "id": "w0dVfNl0W3-K",
        "outputId": "3b64005e-933a-4c0f-a279-e446b14f588e"
      },
      "execution_count": null,
      "outputs": [
        {
          "output_type": "display_data",
          "data": {
            "text/plain": [
              "<Figure size 432x288 with 1 Axes>"
            ],
            "image/png": "[encoded data removed]"
          },
          "metadata": {
            "needs_background": "light"
          }
        }
      ]
    },
    {
      "cell_type": "code",
      "source": [
        "#calculates statistical description of trip duration\n",
        "mean = np.mean(tripDurationMin)\n",
        "median = np.median(tripDurationMin)\n",
        "min = np.amin(tripDurationMin)\n",
        "max = np.amax(tripDurationMin)\n",
        "range = np.ptp(tripDurationMin)\n",
        "variance = np.var(tripDurationMin)\n",
        "sd = np.std(tripDurationMin)\n",
        " \n",
        "print(\"Trip Duration Stats\")\n",
        "print(\"Mean =\", mean)\n",
        "print(\"Median =\", median)\n",
        "print(\"Minimum =\", min)\n",
        "print(\"Maximum =\", max)\n",
        "print(\"Range =\", range)\n",
        "print(\"Variance =\", variance)\n",
        "print(\"Standard Deviation =\", sd)\n",
        "print(\"Q1 =\",np.percentile(tripDurationMin, 25) )\n",
        "print(\"Q3 =\",np.percentile(tripDurationMin, 75) )"
      ],
      "metadata": {
        "colab": {
          "base_uri": "https://localhost:8080/"
        },
        "id": "9bXliel7X4sT",
        "outputId": "25d33a6b-c06f-4b30-c066-742e0e65e4a6"
      },
      "execution_count": null,
      "outputs": [
        {
          "output_type": "stream",
          "name": "stdout",
          "text": [
            "Trip Duration Stats\n",
            "Mean = 13.90977\n",
            "Median = 11.0\n",
            "Minimum = 0.0\n",
            "Maximum = 176.0\n",
            "Range = 176.0\n",
            "Variance = 120.76019854710002\n",
            "Standard Deviation = 10.989094528081012\n",
            "Q1 = 7.0\n",
            "Q3 = 18.0\n"
          ]
        }
      ]
    },
    {
      "cell_type": "code",
      "source": [
        "#creates boxplot for trip duration\n",
        "plt.boxplot(tripDurationMin)\n",
        "plt.show()"
      ],
      "metadata": {
        "colab": {
          "base_uri": "https://localhost:8080/",
          "height": 265
        },
        "id": "PiedlnFTX54J",
        "outputId": "ff61d3c9-b6ff-40fa-d599-ad5bcf059f9a"
      },
      "execution_count": null,
      "outputs": [
        {
          "output_type": "display_data",
          "data": {
            "text/plain": [
              "<Figure size 432x288 with 1 Axes>"
            ],
            "image/png": "[encoded data removed]"
          },
          "metadata": {
            "needs_background": "light"
          }
        }
      ]
    },
    {
      "cell_type": "code",
      "source": [
        "#creates histogram for trip duration\n",
        "plt.hist(tripDurationMin, bins=250)\n",
        "plt.title('Count of Trip Duration')\n",
        "plt.xlabel('Trip Duration (Minutes)')\n",
        "plt.ylabel('Count')\n",
        "plt.xlim([0,120])\n",
        "plt.show()"
      ],
      "metadata": {
        "colab": {
          "base_uri": "https://localhost:8080/",
          "height": 295
        },
        "id": "lAwy9d7RYLP1",
        "outputId": "37b7cc46-4b84-46c4-e009-4326e13efd98"
      },
      "execution_count": null,
      "outputs": [
        {
          "output_type": "display_data",
          "data": {
            "text/plain": [
              "<Figure size 432x288 with 1 Axes>"
            ],
            "image/png": "[encoded data removed]"
          },
          "metadata": {
            "needs_background": "light"
          }
        }
      ]
    },
    {
      "cell_type": "markdown",
      "source": [
        "## **Findings of EDA**\n"
      ],
      "metadata": {
        "id": "wPJXxXZBc8BT"
      }
    },
    {
      "cell_type": "markdown",
      "source": [
        "\n",
        "\n",
        "1.   Passenger count data is positively skewed. The majority of trips took place with 1 passenger. Our outlier detection was done statistically with the following method:\n",
        "\n",
        "  Calculate IQR: Q3-Q1 = 2-1= 1\n",
        "\n",
        "  Multiply IQR by 1.5 = 1 * 1.5\n",
        "\n",
        "  Round up as 1.5 passengers is not a real value ~ 2\n",
        "  Anything above 2 passengers is an outlier.\n",
        "\n",
        "  \n",
        "2.   Distance travelled is positively skewed. Outlier detection was done statistically, with the following method:\n",
        "\n",
        "  Calculate IQR: Q3-Q1 = 2.85-0.85= 2\n",
        "\n",
        "  Multiply IQR by 1.5 = 2 * 1.5 = 3\n",
        "\n",
        "  Any distance travelled over 3km is an outlier.\n",
        "\n",
        "\n",
        "3.   Trip duration is positively skewed. Outlier detection was done statistically, with with the following method:\n",
        "\n",
        "  Calculate IQR: Q3-Q1 = 18 - 7 = 11\n",
        "\n",
        "  Any trip over 11 minutes is considered an outlier.\n",
        "\n"
      ],
      "metadata": {
        "id": "x68qhT18dPS7"
      }
    },
    {
      "cell_type": "markdown",
      "source": [
        "#**Research Questions**"
      ],
      "metadata": {
        "id": "bMcAJKQobY2P"
      }
    },
    {
      "cell_type": "markdown",
      "source": [
        "**1.** The relationship between the number of passengers and the distance travelled/time it took to complete the trip\n",
        "\n",
        "**2.** The correlation between the number of trips and the time of the trip (the dates on which consumers use the taxi system and if there is a certain number of days which they use it more)\n",
        "\n",
        "**3.** The correlation between trip distance and the time it took to complete the trip"
      ],
      "metadata": {
        "id": "Puch2Wm3bf5U"
      }
    },
    {
      "cell_type": "markdown",
      "source": [
        "#**Techniques Used**"
      ],
      "metadata": {
        "id": "eVrHtCwSbm7W"
      }
    },
    {
      "cell_type": "markdown",
      "source": [
        "\n",
        "\n",
        "1.   Data preprocessing:\n",
        "We did some data cleaning for the data that was faulty. We found that in some cases, data was incomplete when the duration of the trips was very short (1-2 minutes). This would result in some issues such as displaying the passenger count as 0, or the distance travelled as 0. For these instances of corrupted data, we used listwise deletion to eliminate the affected rows. \n",
        "\n",
        "2.   K-Means Clustering:\n",
        "We used K-Means Clustering to better explain the relationship between trip distance and its duration. In doing so we where able to see that traffic plays a huge part in how long a trip may take as there is a huge variation in trips that are the same distance in length.\n",
        "\n"
      ],
      "metadata": {
        "id": "q4ACSsCUbvdM"
      }
    },
    {
      "cell_type": "markdown",
      "source": [
        "#**Analysis**"
      ],
      "metadata": {
        "id": "PBGhj_eDf4vM"
      }
    },
    {
      "cell_type": "code",
      "source": [
        "#makes empty array for our sample \n",
        "datMat = np.zeros((200000,2))\n",
        "\n",
        "#puts the distances in first coloumn\n",
        "for i, v in enumerate(distancesKm):\n",
        "  datMat[i][0] = v\n",
        "\n",
        "#puts the trip durations in the second colomun\n",
        "for i, v in enumerate(tripDurationMin):\n",
        "  datMat[i][1] = v"
      ],
      "metadata": {
        "id": "mDqrJV839QzR"
      },
      "execution_count": null,
      "outputs": []
    },
    {
      "cell_type": "code",
      "source": [
        "#initializes the disortionas array\n",
        "distortions = []\n",
        "\n",
        "array=[1,2,3,4,5,6,7,8,9,10]\n",
        "\n",
        "#calculates the disortion for a rand of number of clusters\n",
        "for i in array:\n",
        "    clustering = KMeans(n_clusters=i, init='k-means++', random_state=42)\n",
        "    clustering.fit(datMat)\n",
        "    distortions.append(clustering.inertia_)\n",
        "\n",
        "\n",
        "#plots the distortions\n",
        "plt.plot(array, distortions, marker='o')\n",
        "plt.xlabel('Number of clusters')\n",
        "plt.ylabel('Distortion')\n",
        "plt.show()"
      ],
      "metadata": {
        "colab": {
          "base_uri": "https://localhost:8080/",
          "height": 290
        },
        "id": "_EPCqSMvC3E_",
        "outputId": "0f9f9587-5f28-4fe1-9e60-481086d1ae7c"
      },
      "execution_count": null,
      "outputs": [
        {
          "output_type": "display_data",
          "data": {
            "text/plain": [
              "<Figure size 432x288 with 1 Axes>"
            ],
            "image/png": "[encoded data removed]"
          },
          "metadata": {
            "needs_background": "light"
          }
        }
      ]
    },
    {
      "cell_type": "markdown",
      "source": [
        "Looking at the Elbow method above we see that the optimal amount of clusters that we should use is around 3 as this is where the inflection point is on the line graph"
      ],
      "metadata": {
        "id": "z71XI7NfRIEq"
      }
    },
    {
      "cell_type": "code",
      "source": [
        "#initializes the KMeans class object with k clusters equal to 3 that we got from the eblow method above\n",
        "kmeans = KMeans(n_clusters= 3)\n",
        "\n",
        "#predicts the cluster index for our sample\n",
        "label = kmeans.fit_predict(datMat)\n",
        "\n",
        "#gets each unique lable as well as finds the centroids\n",
        "uLabels = np.unique(label)\n",
        "centroids = kmeans.cluster_centers_\n",
        "\n",
        "#plots the results for each label as well as the centroids\n",
        "for i in uLabels:\n",
        "    plt.scatter(datMat[label == i , 0] , datMat[label == i , 1] , label = i)\n",
        "plt.scatter(centroids[:,0] , centroids[:,1] , s = 80, color = 'k')\n",
        "\n",
        "plt.legend()\n",
        "plt.xlabel('Distance(Km)')\n",
        "plt.ylabel('Duration of Trip(Min)')\n",
        "plt.show()"
      ],
      "metadata": {
        "id": "oAIvkZ64LZ2z",
        "colab": {
          "base_uri": "https://localhost:8080/",
          "height": 279
        },
        "outputId": "6e69194b-0b97-4183-a3d5-c60980bb07b1"
      },
      "execution_count": null,
      "outputs": [
        {
          "output_type": "display_data",
          "data": {
            "text/plain": [
              "<Figure size 432x288 with 1 Axes>"
            ],
            "image/png": "[encoded data removed]"
          },
          "metadata": {
            "needs_background": "light"
          }
        }
      ]
    },
    {
      "cell_type": "markdown",
      "source": [
        "Above we can see our three clusters of data when comparing distances travelled in Km to the duration of that trip. Looking at the clusters we see that the first cluster are trips that are less than 20 km tend to be no more than 15 min long, which relates to the fact that shorter trips take a shorter amount of time. The second cluster shows trips that are up to 20 km may also take longer than 15 min (specifically 15 min to 40 min), we think this is also because of traffic within the city region. Finally the third cluster shows that most trips over 30 km take longer than 40 min, which goes with the fact that longer distances relate to a longer trip time but also shows that traffic plays a huge part as well, as we can also see that there are way more trips that are shorter than 40 km but take longer than 40 min"
      ],
      "metadata": {
        "id": "o_zIKaKCRer4"
      }
    },
    {
      "cell_type": "markdown",
      "source": [
        "# **Discussion**"
      ],
      "metadata": {
        "id": "-9TtlYRBOYqm"
      }
    },
    {
      "cell_type": "markdown",
      "source": [
        "In conclusion, upon working on the 2016 NYC Yellow Cab trip data, and answering the above questions numbered 1 to 3:\n",
        "\n",
        "1a- According to our second last scatter plot of passenger counts and distance of trips; we have observed that the higher number of passengers (we have analyzed a count of passengers from 1-6), the lower km of distance travelled by the cabs. In our graphs:\n",
        "\n",
        "-  when the counts of passengers is 1, the majority of \n",
        "passengers travel 1-58 km to a max distance of 120km(1 passenger instance).\n",
        "\n",
        "-  when the counts of passengers are 3, the majority of passengers travel a distance from 1-35km to a max distance of 50km(2 passenger instances).\n",
        "\n",
        "-  When the count of passengers is 6, the majority of passengers travel a distance of 33km to a max distance of 50km (1 passenger instance).\n",
        "\n",
        "Thus, this makes sense becuase in our case of NYC, most people travel individually for work, being more distances and different destinations of customers compared to higher number of passengers where a group of friends, colleagues or etc travel together which results in minimal distances.\n",
        "\n",
        "\n",
        "1b- According to our last scatter plot of passenger counts and trip duration in mins; we have observed that the higher number of passengers (we have analyzed a count of passengers from 1-6), the lower mins of trip duration. In our graphs:\n",
        "\n",
        "-  when the counts of passengers is 1, the majority of passengers trip duration is 170 mins to a max of 348 minutes.\n",
        "\n",
        "-  when the counts of passengers are 6, the majority of passengers trip duration is 110 minutes to a maximum of 125 minutes.\n",
        "\n",
        "To summarize, this analysis follows the previous following question(1a) where less number of passengers take various roots resulting in a longer duration, compared to more passengers with lower distances resulting in lower taxi trip durations\n",
        "\n",
        "2- Our plot on the appendix #1 indicates that there is no significant correlation between the number of trips, and the date of the trip. This is because New York City being one of the busiest cities in the world; has a significant number of passengers on most of the days regardless of how many trips are made. One thing to note is that, there are no dates where there are no trips, and the lowest trip on a week/month of the year is when there were around 140,000 number of trips.\n",
        "\n",
        "\n",
        "3- According to our Histogram and scatter plot on 'Duration of Trips vs The number of trips', the correlation between trip distance and the time it took to complete the trip in our sample of 12000 number of trips trends to a greater number of trips leaning towards 20 minutes or lower compared to trips that are in the range of 50-80 minutes which are barely visible. We have also achieved a mean trip duration of 14 minutes in our sample of trip numbers\n",
        "\n",
        "The last part will be focused on the 'Exploratory Data Analysis':\n",
        "\n",
        "We performed this task on three of our primary variables being 'Passenger Count', 'Distance of Trips', and 'duration of trips'. These variables gave us a five number summary for all:\n",
        "\n",
        "\n",
        "-  Passenger count: since we had 20,000 passengers in our sample, our mean, standard deviation, 2nd Quartile, median, and third quartle was ranging from 0-2 with a maximum of 6.\n",
        "\n",
        "-  Distance of trips: this gave us an birds eye view of our variable dispersion. we got our range from 0-121.37 with standard deviation of 4.2.\n",
        "\n",
        "-  Moreover, the duration of trips had taken samples according to of trip numbers for our plots. Similarly, we had a range from 0-391 with mean of 13.91, and a standard deviation of 11.1.\n",
        "\n",
        "4- For our technique of K-Means clustering, the Elbow method gave us an idea that we should use k=3 as starting from k =3, the incline decreases and starts to steady up compared to k=1 and k=2. Hence,  the first cluster are trips less than 20 km and less than 15 minutes long, the second cluster talks about trips 20km taking more than 15 minutes due to traffic, the third cluster shows trips above 30 km and more than 40 mins by using the k-means clusters tutorial used with the reference of collabs used in our class lecture methods. The centroids of each clusters are present and can be viewed in the second plot under the analysis.\n",
        "\n",
        "5- We assumed that because this data is taken in New York, the duration of the trip will depend not only on the distance you want to travel, but also on the time of day. To determine whether or not our assumption was true, we did a graph to figure out how many trips people took at which times of day. We added granularity to the date, and focused on the hour which people were taking cabs. Our assumption was that there would be an increased demand of cabs around the times that people were going to work, and when people were leaving work. Plotting the data, we indeed found an increase in demand of cabs from 7am to 9am, and an increase from 2pm to 4pm. There was a dropoff between those times in the demand of cabs as well, but the dropoff was somewhat less after the 4pm mark as people tend to leave work at different times. Additionally, we found that there was an increase in cab demand from 9pm to 11pm. We figured that this would be because New York is a city where people go out a lot, so after work, there would be an increase in cab demand as well to account for people going to bars, events, restaurants, etc. (See graph 6 in appendix)\n",
        "\n",
        "6- To confirm this, we also did an additional plot of the duration of trip versus the time of day. We found that the graph looks essentially identical to the initial graph which counts the number of people taking cabs at certain times of day. **Because of this, we are able to say that if a person wants to take a cab in New York, the time it would take for them to complete that trip will depend not only on the distance they want to travel, but the time of day at which they take the cab due to New York being a busy city with exceptional congestion.** (See graph 7 in appendix)"
      ],
      "metadata": {
        "id": "msgTBeprOgWL"
      }
    },
    {
      "cell_type": "markdown",
      "source": [
        "#**Self assessment**"
      ],
      "metadata": {
        "id": "apeK8-w0gUYC"
      }
    },
    {
      "cell_type": "markdown",
      "source": [
        "**Omar Mosly**\n",
        "\n",
        "Part 1:\n",
        "Gave ideas for 2 questions that were not used in the final report.\n",
        "\n",
        "Part 2:\n",
        "Created new report to better organize our information and add clarity to report.\n",
        "\n",
        "Did exploratory data analysis.\n",
        "\n",
        "\n",
        "\n",
        "Ideas and some implementation of techniques we can use to analyze our data.\n",
        "Pitched idea of prescription of time of day vs duration of trip rather than just distance.\n",
        "\n",
        "**Daniel Gherman**\n",
        "\n",
        "Part 1: Helped out with the research questions\n",
        "\n",
        "Part 2: Wrote the code to do the exploratory data analysis to find trends in the data and helped explain what they meaned as well as I wrote the code to do Elbow method as well as the KMeans Clustering and explained the findings. Did coding for figuring out the count of cabs at certain times, as well as the duration of trips vs the time of day.\n",
        "\n",
        "**Rocco Ali** \n",
        "\n",
        "Part 1: Gave ideas about questions that we could \n",
        "use for our report \n",
        "\n",
        "Part 2: I have helped out making the code, \n",
        "sepcfically the plots, explaing what they mean, organizing the data. Helped organize the final report laying in out in accourndance to the guilelines set forth in the instrctions. Polished out ideas sated in the presenttation and helped finalize our machine learning component.\n",
        "\n",
        "**Huan-Che Hsu**\n",
        "\n",
        "Part 1: I am reposible to finish the proposal, and provide a research question that we focus on our project.\n",
        "\n",
        "Part 2: Mostly communication on how the researching part are established and helping out with the presentation.\n",
        "\n",
        "**Waqas Shaikh**\n",
        "\n",
        "Part 1: My contribution in the group has been to work on analyzing the questions, and using them into the discussion aspect of our final submission report. \n",
        "\n",
        "Part 2: I have analyzed each question with our intial question, our findings, using the EDA, and what we take from each question as a summary of this collab document.\n",
        " \n",
        "Part 3: I have also taken the resposbility of designing and making the presentation slides of our group to have the work load divided qually amongst our groups."
      ],
      "metadata": {
        "id": "9nvxqcyynESP"
      }
    },
    {
      "cell_type": "markdown",
      "source": [
        "#**Appendix**"
      ],
      "metadata": {
        "id": "EEEeTxtHgXAy"
      }
    },
    {
      "cell_type": "markdown",
      "source": [
        "The following is anything we found that doesn't flow well with the report, but was important information that we thought was necessary to include."
      ],
      "metadata": {
        "id": "GcCV---9gZHO"
      }
    },
    {
      "cell_type": "markdown",
      "source": [
        "### Graph 1"
      ],
      "metadata": {
        "id": "6HyjjhVS_P6K"
      }
    },
    {
      "cell_type": "code",
      "source": [
        "plt.hist(pickUpTimesSorted, bins=12)\n",
        "plt.title('Date of Trips vs The Number of Trips')\n",
        "plt.xlabel('Dates')\n",
        "plt.ylabel('Counts')\n",
        "plt.show()"
      ],
      "metadata": {
        "id": "e8O-47-agYeJ",
        "colab": {
          "base_uri": "https://localhost:8080/",
          "height": 295
        },
        "outputId": "aacac1d4-4fd5-41df-86c9-b6f8f4a55e03"
      },
      "execution_count": null,
      "outputs": [
        {
          "output_type": "display_data",
          "data": {
            "text/plain": [
              "<Figure size 432x288 with 1 Axes>"
            ],
            "image/png": "[encoded data removed]"
          },
          "metadata": {
            "needs_background": "light"
          }
        }
      ]
    },
    {
      "cell_type": "markdown",
      "source": [
        "This histogram shows that there is no correlation between the dates that trips where done, meaning there are no specific times during the year where there are more trips then others."
      ],
      "metadata": {
        "id": "Ha7bFwxKg0yO"
      }
    },
    {
      "cell_type": "markdown",
      "source": [
        "### Graph 2"
      ],
      "metadata": {
        "id": "PQyyVRrt68h7"
      }
    },
    {
      "cell_type": "code",
      "source": [
        "plt.hist(distancesKm, bins='auto')\n",
        "plt.title('Distance of Trips vs The Number of Trips')\n",
        "plt.xlabel('Distance(Km)')\n",
        "plt.ylabel('Counts')\n",
        "plt.xlim([0,40])\n",
        "plt.show()\n",
        "\n",
        "print ('Mean: {0}'.format(round(distancesKm.mean(),0)))"
      ],
      "metadata": {
        "id": "GUumGXsohAfP",
        "colab": {
          "base_uri": "https://localhost:8080/",
          "height": 312
        },
        "outputId": "d84dceeb-de78-4793-a73b-f177272e5ecb"
      },
      "execution_count": null,
      "outputs": [
        {
          "output_type": "display_data",
          "data": {
            "text/plain": [
              "<Figure size 432x288 with 1 Axes>"
            ],
            "image/png": "[encoded data removed]"
          },
          "metadata": {
            "needs_background": "light"
          }
        },
        {
          "output_type": "stream",
          "name": "stdout",
          "text": [
            "Mean: 3.0\n"
          ]
        }
      ]
    },
    {
      "cell_type": "markdown",
      "source": [
        "This histogram shows that there are alot more trips with a distance of less than 5km, this is shown also by the mean which is 3km\n",
        "The graph is also positively skewed."
      ],
      "metadata": {
        "id": "NOutYFZ2hBHA"
      }
    },
    {
      "cell_type": "markdown",
      "source": [
        "### Graph 3"
      ],
      "metadata": {
        "id": "ufF0xsLh6_e7"
      }
    },
    {
      "cell_type": "code",
      "source": [
        "plt.hist(passengerCount)\n",
        "plt.title('Number of Passangers per Trip vs The Number of Trips')\n",
        "plt.xlabel('Num of Passangers')\n",
        "plt.ylabel('Counts')\n",
        "plt.xlim([0.5,6])\n",
        "plt.show()\n",
        "\n",
        "print ('Mean: {0}'.format(round(passengerCount.mean(),1)))"
      ],
      "metadata": {
        "id": "9W3zhCBThFlU",
        "colab": {
          "base_uri": "https://localhost:8080/",
          "height": 312
        },
        "outputId": "bc7e5eae-4e02-45f9-f34d-7c7d03a8d185"
      },
      "execution_count": null,
      "outputs": [
        {
          "output_type": "display_data",
          "data": {
            "text/plain": [
              "<Figure size 432x288 with 1 Axes>"
            ],
            "image/png": "[encoded data removed]"
          },
          "metadata": {
            "needs_background": "light"
          }
        },
        {
          "output_type": "stream",
          "name": "stdout",
          "text": [
            "Mean: 1.7\n"
          ]
        }
      ]
    },
    {
      "cell_type": "markdown",
      "source": [
        "This histogram shows that there are alot more trips with 1 passangers as supposed to the rest. This is in line with the mean of 2\n",
        "The graph is also positively skewed."
      ],
      "metadata": {
        "id": "PAgIqGmIhGEc"
      }
    },
    {
      "cell_type": "markdown",
      "source": [
        "### Graph 4"
      ],
      "metadata": {
        "id": "8jedcQ_77BYx"
      }
    },
    {
      "cell_type": "code",
      "source": [
        "plt.hist(tripDurationMin, bins=500)\n",
        "plt.title('Duration of Trips vs The Number of Trips')\n",
        "plt.xlabel('Trip Duration(Min)')\n",
        "plt.ylabel('Counts')\n",
        "plt.xlim([0,120])\n",
        "plt.show()\n",
        "\n",
        "print ('Mean: {0}'.format(round(tripDurationMin.mean(),0)))"
      ],
      "metadata": {
        "id": "B6VAkR6YhJvo",
        "colab": {
          "base_uri": "https://localhost:8080/",
          "height": 312
        },
        "outputId": "61ebc703-f287-4085-82bc-be50dd35d767"
      },
      "execution_count": null,
      "outputs": [
        {
          "output_type": "display_data",
          "data": {
            "text/plain": [
              "<Figure size 432x288 with 1 Axes>"
            ],
            "image/png": "[encoded data removed]"
          },
          "metadata": {
            "needs_background": "light"
          }
        },
        {
          "output_type": "stream",
          "name": "stdout",
          "text": [
            "Mean: 14.0\n"
          ]
        }
      ]
    },
    {
      "cell_type": "markdown",
      "source": [
        "### Graph 5"
      ],
      "metadata": {
        "id": "VCs8hk9o7DWz"
      }
    },
    {
      "cell_type": "markdown",
      "source": [
        "This histogram shows that there tends to way more trips that last 20 min or less. This is in line with the mean, which is 14 min.\n",
        "The graph is also positively skewed."
      ],
      "metadata": {
        "id": "oEF3xLPghLjP"
      }
    },
    {
      "cell_type": "code",
      "source": [
        "plt.scatter(distancesKm, tripDurationMin)\n",
        "plt.title('Distance of Trips vs Duration of Trips')\n",
        "plt.xlabel('Distance(Km)')\n",
        "plt.ylabel('Time(Min)')\n",
        "plt.show()"
      ],
      "metadata": {
        "id": "VumPaszDhNOq",
        "colab": {
          "base_uri": "https://localhost:8080/",
          "height": 295
        },
        "outputId": "c68d36f1-0b55-45f3-ff75-062ebc427543"
      },
      "execution_count": null,
      "outputs": [
        {
          "output_type": "display_data",
          "data": {
            "text/plain": [
              "<Figure size 432x288 with 1 Axes>"
            ],
            "image/png": "[encoded data removed]"
          },
          "metadata": {
            "needs_background": "light"
          }
        }
      ]
    },
    {
      "cell_type": "markdown",
      "source": [
        "This scatterplot shows that the majority of trips are between 1km and 50km, with most being between 1km-10km, which correlates to the mean of the distances which is 13 Km. Conversly the time of each trip is mostly below 50 min, which correlates with the mean of trip durations of 14 min\n",
        "The trip time does increase as the distances increases but conversly, since most of the time a cab will be in the city, short distances tend to be longer as well because of traffic"
      ],
      "metadata": {
        "id": "E8jj2r1KhSFo"
      }
    },
    {
      "cell_type": "markdown",
      "source": [
        "### Graph 6"
      ],
      "metadata": {
        "id": "G_1q4J2L7FNF"
      }
    },
    {
      "cell_type": "code",
      "source": [
        "#takes pickup times and sorts them\n",
        "pickUpTimes = df.iloc[0:200000,2]\n",
        "pickUpTimes = pickUpTimes.sort_values()\n",
        "\n",
        "#makes empty array to put sorted pickup times\n",
        "pickUpTimesSorted = np.zeros((200000,1), dtype='object')\n",
        "\n",
        "#appends each sorted pickup times to new array\n",
        "for i, r in enumerate(pickUpTimes):\n",
        "  pickUpTimesSorted[i] = r[11:13]\n",
        "\n",
        "#plots it\n",
        "plt.hist(pickUpTimesSorted)\n",
        "plt.xlabel('Time of day(24 Hours)')\n",
        "plt.ylabel('Counts')\n",
        "plt.title('Time of Day vs The Number of Trips')\n",
        "plt.show()"
      ],
      "metadata": {
        "id": "Rbz0lljhl-rv",
        "colab": {
          "base_uri": "https://localhost:8080/",
          "height": 295
        },
        "outputId": "46b18e67-9e7f-49d8-e1d7-24374d0c8cae"
      },
      "execution_count": null,
      "outputs": [
        {
          "output_type": "display_data",
          "data": {
            "text/plain": [
              "<Figure size 432x288 with 1 Axes>"
            ],
            "image/png": "[encoded data removed]"
          },
          "metadata": {
            "needs_background": "light"
          }
        }
      ]
    },
    {
      "cell_type": "markdown",
      "source": [
        "So clearly we can see that there are spikes in the amount of trips in the morning(7am - 9 am) and slight drop off until (2pm - 4pm). This can be because people are going to and from work. It seems to increase after 9pm, maybe indicating that people tend to go out at night, with a significant drop off at 2 am because way less people tend to use the cab during late hours."
      ],
      "metadata": {
        "id": "igpZ0A-hmAq2"
      }
    },
    {
      "cell_type": "markdown",
      "source": [
        "### Graph 7"
      ],
      "metadata": {
        "id": "exTNcL637ITp"
      }
    },
    {
      "cell_type": "code",
      "source": [
        "#gets the pickup times and puts them into an array\n",
        "timesOfPickup = df.iloc[0:200000,2]\n",
        "\n",
        "#makes another pickup times array so that we can parse the data\n",
        "timesOfPickupUnsorted = np.zeros((200000,1), dtype='object')\n",
        "\n",
        "#parses the time\n",
        "for i, r in enumerate(timesOfPickup):\n",
        "  timesOfPickupUnsorted[i] = r[11:13]\n",
        "\n",
        "#changes pickup time array to float\n",
        "timesOfPickupUnsorted = timesOfPickupUnsorted.astype('float64')\n",
        "\n",
        "#plots it\n",
        "x = np.arange(0,24,1)\n",
        "plt.scatter(timesOfPickupUnsorted,tripDurationMin)\n",
        "plt.xlabel('Time of Day(24 Hours)')\n",
        "plt.ylabel('Duration of Trip(Min)')\n",
        "plt.xticks(x)\n",
        "plt.title('Time of Day vs Duration of Trip')\n",
        "plt.show()"
      ],
      "metadata": {
        "colab": {
          "base_uri": "https://localhost:8080/",
          "height": 295
        },
        "id": "juFve8s9wexO",
        "outputId": "cd7d2bb4-61af-4199-a0a0-1a590c163b3a"
      },
      "execution_count": null,
      "outputs": [
        {
          "output_type": "display_data",
          "data": {
            "text/plain": [
              "<Figure size 432x288 with 1 Axes>"
            ],
            "image/png": "[encoded data removed]"
          },
          "metadata": {
            "needs_background": "light"
          }
        }
      ]
    },
    {
      "cell_type": "markdown",
      "source": [
        "We can see that the duration of the trip affected by the time at which a cab was taken. This duration increase correlates to the previous graph, which saw an increase of cab demand depending on the time of day as well. Because of this, we can say that there is increased congestion of traffic at those times, therefore resulting in longer trip durations at those times."
      ],
      "metadata": {
        "id": "1hzYMMTF_cWi"
      }
    },
    {
      "cell_type": "markdown",
      "source": [
        "### Graph 8"
      ],
      "metadata": {
        "id": "C1D1P2ez8pql"
      }
    },
    {
      "cell_type": "code",
      "source": [
        "plt.scatter(passengerCount, distancesKm)\n",
        "\n",
        "plt.title('Passanger Count of Trips vs Distance of Trips')\n",
        "plt.xlabel('Passanger Count')\n",
        "plt.ylabel('Distance of Trip(Km)')\n",
        "plt.xlim([0.5,6.5])\n",
        "plt.show()"
      ],
      "metadata": {
        "id": "eDTwIWPjhRcr",
        "colab": {
          "base_uri": "https://localhost:8080/",
          "height": 295
        },
        "outputId": "de6f7b00-64b5-4957-be7e-044e9a388b43"
      },
      "execution_count": null,
      "outputs": [
        {
          "output_type": "display_data",
          "data": {
            "text/plain": [
              "<Figure size 432x288 with 1 Axes>"
            ],
            "image/png": "[encoded data removed]"
          },
          "metadata": {
            "needs_background": "light"
          }
        }
      ]
    },
    {
      "cell_type": "markdown",
      "source": [
        "This scatter plot shows that the trip distances tend to be smaller with a larger group of people"
      ],
      "metadata": {
        "id": "uAAsxp92hdCT"
      }
    },
    {
      "cell_type": "markdown",
      "source": [
        "###Graph 9"
      ],
      "metadata": {
        "id": "T1PLLUlJ_Xcm"
      }
    },
    {
      "cell_type": "code",
      "source": [
        "plt.scatter(passengerCount, tripDurationMin)\n",
        "plt.title('Passanger Count of Trips vs Duration of Trips')\n",
        "plt.xlabel('Passanger Count')\n",
        "plt.ylabel('Trip Duration(Min)')\n",
        "plt.xlim([0.5,6.5])\n",
        "plt.show()"
      ],
      "metadata": {
        "id": "0RwktZinhmOb",
        "colab": {
          "base_uri": "https://localhost:8080/",
          "height": 295
        },
        "outputId": "da987c5a-ab01-4593-82ad-3fc2cc3e4691"
      },
      "execution_count": null,
      "outputs": [
        {
          "output_type": "display_data",
          "data": {
            "text/plain": [
              "<Figure size 432x288 with 1 Axes>"
            ],
            "image/png": "[encoded data removed]"
          },
          "metadata": {
            "needs_background": "light"
          }
        }
      ]
    },
    {
      "cell_type": "markdown",
      "source": [
        "This scatter plot shows that there are more smaller groups of people doing longer trips"
      ],
      "metadata": {
        "id": "eOb2UWa5miPM"
      }
    },
    {
      "cell_type": "markdown",
      "source": [
        "This relates to the Passanger Count of Trips vs Distance of Trips, with this we can conclude that smaller group of people do longer trips which correlates with the fact that longer trips take longer in general"
      ],
      "metadata": {
        "id": "4NFU8VPImjCC"
      }
    }
  ]
}